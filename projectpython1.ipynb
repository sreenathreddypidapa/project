{
 "cells": [
  {
   "cell_type": "code",
   "execution_count": 1,
   "id": "ce269594-5042-47df-86c9-055077505200",
   "metadata": {},
   "outputs": [],
   "source": [
    "# Import required libraries\n",
    "import pandas as pd\n",
    "import numpy as np\n",
    "import sqlite3\n",
    "from sklearn.model_selection import train_test_split, cross_val_score, StratifiedKFold\n",
    "from sklearn.preprocessing import StandardScaler, MinMaxScaler, FunctionTransformer\n",
    "from sklearn.pipeline import Pipeline\n",
    "from sklearn.linear_model import LogisticRegression, RidgeClassifier\n",
    "from sklearn.ensemble import RandomForestClassifier, StackingClassifier, GradientBoostingClassifier\n",
    "from xgboost import XGBClassifier\n",
    "from sklearn.decomposition import PCA\n",
    "from sklearn.feature_selection import VarianceThreshold\n",
    "from sklearn.metrics import f1_score, confusion_matrix\n",
    "import matplotlib.pyplot as plt\n",
    "import seaborn as sns\n",
    "import joblib\n",
    "import os\n",
    "import tempfile"
   ]
  },
  {
   "cell_type": "code",
   "execution_count": 2,
   "id": "1ef29bc7-336a-43dd-904b-9da8a613c09d",
   "metadata": {},
   "outputs": [],
   "source": [
    "# Step 1: Load and Normalize Data (3NF)\n",
    "# ----------------------------\n",
    "train_path = \"train.csv\"\n",
    "train_data = pd.read_csv(train_path)\n",
    "\n"
   ]
  },
  {
   "cell_type": "code",
   "execution_count": 3,
   "id": "a3234d82-4816-4bda-8add-31f3757c7038",
   "metadata": {},
   "outputs": [
    {
     "name": "stdout",
     "output_type": "stream",
     "text": [
      "Tables created: [('Mobile',), ('Features',), ('Camera',), ('Display',), ('Processor',), ('Price',)]\n"
     ]
    }
   ],
   "source": [
    "# Create SQLite connection\n",
    "conn = sqlite3.connect('mobile_specs.db')\n",
    "cursor = conn.cursor()\n",
    "\n",
    "# Drop existing tables if they exist\n",
    "cursor.execute(\"DROP TABLE IF EXISTS Mobile;\")\n",
    "cursor.execute(\"DROP TABLE IF EXISTS Features;\")\n",
    "cursor.execute(\"DROP TABLE IF EXISTS Camera;\")\n",
    "cursor.execute(\"DROP TABLE IF EXISTS Display;\")\n",
    "cursor.execute(\"DROP TABLE IF EXISTS Processor;\")\n",
    "cursor.execute(\"DROP TABLE IF EXISTS Price;\")\n",
    "\n",
    "# Create Mobile table\n",
    "cursor.execute(\"\"\"\n",
    "CREATE TABLE Mobile (\n",
    "    id INTEGER PRIMARY KEY,\n",
    "    battery_power INTEGER,\n",
    "    clock_speed REAL,\n",
    "    m_dep REAL,\n",
    "    mobile_wt INTEGER,\n",
    "    ram INTEGER,\n",
    "    int_memory INTEGER,\n",
    "    talk_time INTEGER\n",
    ");\n",
    "\"\"\")\n",
    "\n",
    "# Create Features table\n",
    "cursor.execute(\"\"\"\n",
    "CREATE TABLE Features (\n",
    "    id INTEGER PRIMARY KEY,\n",
    "    blue INTEGER,\n",
    "    dual_sim INTEGER,\n",
    "    four_g INTEGER,\n",
    "    three_g INTEGER,\n",
    "    touch_screen INTEGER,\n",
    "    int_memory INTEGER,\n",
    "    wifi INTEGER,\n",
    "    FOREIGN KEY (id) REFERENCES Mobile (id)\n",
    ");\n",
    "\"\"\")\n",
    "\n",
    "# Create Camera table\n",
    "cursor.execute(\"\"\"\n",
    "CREATE TABLE Camera (\n",
    "    id INTEGER PRIMARY KEY,\n",
    "    fc INTEGER,\n",
    "    pc INTEGER,\n",
    "    sc_h INTEGER,\n",
    "    sc_w INTEGER,\n",
    "    FOREIGN KEY (id) REFERENCES Mobile (id)\n",
    ");\n",
    "\"\"\")\n",
    "\n",
    "# Create Display table\n",
    "cursor.execute(\"\"\"\n",
    "CREATE TABLE Display (\n",
    "    id INTEGER PRIMARY KEY,\n",
    "    px_height INTEGER,\n",
    "    px_width INTEGER,\n",
    "    FOREIGN KEY (id) REFERENCES Mobile (id)\n",
    ");\n",
    "\"\"\")\n",
    "\n",
    "# Create Processor table\n",
    "cursor.execute(\"\"\"\n",
    "CREATE TABLE Processor (\n",
    "    id INTEGER PRIMARY KEY,\n",
    "    n_cores INTEGER,\n",
    "    FOREIGN KEY (id) REFERENCES Mobile (id)\n",
    ");\n",
    "\"\"\"\n",
    ")\n",
    "\n",
    "cursor.execute(\"\"\"\n",
    "CREATE TABLE Price (\n",
    "    id INTEGER PRIMARY KEY,\n",
    "    price_range INTEGER,\n",
    "    FOREIGN KEY (id) REFERENCES Mobile (id)\n",
    ");\n",
    "\"\"\"\n",
    ")\n",
    "\n",
    "# Commit the table creation\n",
    "conn.commit()\n",
    "\n",
    "# Populate the tables using your dataset (assuming `df` is the loaded dataset)\n",
    "df = train_data\n",
    "\n",
    "# Mobile Table\n",
    "mobile_cols = ['id', 'battery_power', 'clock_speed', 'm_dep', 'mobile_wt', 'ram', 'int_memory', 'talk_time']\n",
    "df[mobile_cols].to_sql('Mobile', conn, if_exists='append', index=False)\n",
    "\n",
    "# Features Table\n",
    "features_cols = ['id', 'blue', 'dual_sim', 'four_g', 'three_g', 'touch_screen', 'wifi']\n",
    "df[features_cols].to_sql('Features', conn, if_exists='append', index=False)\n",
    "\n",
    "# Camera Table\n",
    "camera_cols = ['id', 'fc', 'pc', 'sc_h', 'sc_w']\n",
    "df[camera_cols].to_sql('Camera', conn, if_exists='append', index=False)\n",
    "\n",
    "# Display Table\n",
    "display_cols = ['id', 'px_height', 'px_width']\n",
    "df[display_cols].to_sql('Display', conn, if_exists='append', index=False)\n",
    "\n",
    "# Processor Table\n",
    "processor_cols = ['id', 'n_cores']\n",
    "df[processor_cols].to_sql('Processor', conn, if_exists='append', index=False)\n",
    "\n",
    "# Processor Table\n",
    "price_cols = ['id', 'price_range']\n",
    "df[price_cols].to_sql('Price', conn, if_exists='append', index=False)\n",
    "\n",
    "# Verify tables\n",
    "tables = cursor.execute(\"SELECT name FROM sqlite_master WHERE type='table';\").fetchall()\n",
    "\n",
    "print(\"Tables created:\", tables)"
   ]
  },
  {
   "cell_type": "code",
   "execution_count": 4,
   "id": "ce7b7805-01d9-49b6-88d9-e2b628faaf20",
   "metadata": {},
   "outputs": [],
   "source": [
    "query = \"\"\"\n",
    "SELECT \n",
    "    m.id, m.battery_power, m.clock_speed, m.m_dep, m.mobile_wt, m.ram, m.int_memory, m.talk_time,\n",
    "    f.blue, f.dual_sim, f.four_g, f.three_g, f.touch_screen, f.wifi,\n",
    "    c.fc, c.pc, c.sc_h, c.sc_w,\n",
    "    d.px_height, d.px_width,\n",
    "    p.n_cores,\n",
    "    pr.price_range\n",
    "FROM \n",
    "    Mobile m\n",
    "JOIN \n",
    "    Features f ON m.id = f.id\n",
    "JOIN \n",
    "    Camera c ON m.id = c.id\n",
    "JOIN \n",
    "    Display d ON m.id = d.id\n",
    "JOIN \n",
    "    Processor p ON m.id = p.id\n",
    "JOIN \n",
    "    Price pr ON m.id = pr.id\n",
    "\"\"\"\n",
    "\n",
    "# Load the data into a Pandas DataFrame\n",
    "df_joined = pd.read_sql_query(query, conn)\n",
    "\n",
    "conn.close()"
   ]
  },
  {
   "cell_type": "code",
   "execution_count": 5,
   "id": "3aaec8d0-74f6-4221-a1d2-a7f808b217f0",
   "metadata": {},
   "outputs": [
    {
     "name": "stdout",
     "output_type": "stream",
     "text": [
      "<class 'pandas.core.frame.DataFrame'>\n",
      "RangeIndex: 2000 entries, 0 to 1999\n",
      "Data columns (total 22 columns):\n",
      " #   Column         Non-Null Count  Dtype  \n",
      "---  ------         --------------  -----  \n",
      " 0   id             2000 non-null   int64  \n",
      " 1   battery_power  2000 non-null   int64  \n",
      " 2   blue           2000 non-null   int64  \n",
      " 3   clock_speed    2000 non-null   float64\n",
      " 4   dual_sim       2000 non-null   int64  \n",
      " 5   fc             2000 non-null   int64  \n",
      " 6   four_g         2000 non-null   int64  \n",
      " 7   int_memory     2000 non-null   int64  \n",
      " 8   m_dep          2000 non-null   float64\n",
      " 9   mobile_wt      2000 non-null   int64  \n",
      " 10  n_cores        2000 non-null   int64  \n",
      " 11  pc             2000 non-null   int64  \n",
      " 12  px_height      2000 non-null   int64  \n",
      " 13  px_width       2000 non-null   int64  \n",
      " 14  ram            2000 non-null   int64  \n",
      " 15  sc_h           2000 non-null   int64  \n",
      " 16  sc_w           2000 non-null   int64  \n",
      " 17  talk_time      2000 non-null   int64  \n",
      " 18  three_g        2000 non-null   int64  \n",
      " 19  touch_screen   2000 non-null   int64  \n",
      " 20  wifi           2000 non-null   int64  \n",
      " 21  price_range    2000 non-null   int64  \n",
      "dtypes: float64(2), int64(20)\n",
      "memory usage: 343.9 KB\n"
     ]
    }
   ],
   "source": [
    "df.info()"
   ]
  },
  {
   "cell_type": "code",
   "execution_count": 6,
   "id": "8c7156d0-661c-482c-8466-be56580a133a",
   "metadata": {},
   "outputs": [
    {
     "name": "stdout",
     "output_type": "stream",
     "text": [
      "<class 'pandas.core.frame.DataFrame'>\n",
      "RangeIndex: 2000 entries, 0 to 1999\n",
      "Data columns (total 22 columns):\n",
      " #   Column         Non-Null Count  Dtype  \n",
      "---  ------         --------------  -----  \n",
      " 0   id             2000 non-null   int64  \n",
      " 1   battery_power  2000 non-null   int64  \n",
      " 2   clock_speed    2000 non-null   float64\n",
      " 3   m_dep          2000 non-null   float64\n",
      " 4   mobile_wt      2000 non-null   int64  \n",
      " 5   ram            2000 non-null   int64  \n",
      " 6   int_memory     2000 non-null   int64  \n",
      " 7   talk_time      2000 non-null   int64  \n",
      " 8   blue           2000 non-null   int64  \n",
      " 9   dual_sim       2000 non-null   int64  \n",
      " 10  four_g         2000 non-null   int64  \n",
      " 11  three_g        2000 non-null   int64  \n",
      " 12  touch_screen   2000 non-null   int64  \n",
      " 13  wifi           2000 non-null   int64  \n",
      " 14  fc             2000 non-null   int64  \n",
      " 15  pc             2000 non-null   int64  \n",
      " 16  sc_h           2000 non-null   int64  \n",
      " 17  sc_w           2000 non-null   int64  \n",
      " 18  px_height      2000 non-null   int64  \n",
      " 19  px_width       2000 non-null   int64  \n",
      " 20  n_cores        2000 non-null   int64  \n",
      " 21  price_range    2000 non-null   int64  \n",
      "dtypes: float64(2), int64(20)\n",
      "memory usage: 343.9 KB\n"
     ]
    }
   ],
   "source": [
    "df_joined.info()"
   ]
  },
  {
   "cell_type": "code",
   "execution_count": null,
   "id": "e9308c05-e18b-4435-91cd-eb5fc4ce0b7b",
   "metadata": {},
   "outputs": [],
   "source": []
  },
  {
   "cell_type": "code",
   "execution_count": 7,
   "id": "1f0a0b91-4a7d-40ff-91e1-d894c22249dc",
   "metadata": {},
   "outputs": [
    {
     "name": "stdout",
     "output_type": "stream",
     "text": [
      "                id  battery_power  clock_speed        m_dep    mobile_wt  \\\n",
      "count  2000.000000    2000.000000  2000.000000  2000.000000  2000.000000   \n",
      "mean   1000.500000    1238.518500     1.522250     0.501750   140.249000   \n",
      "std     577.494589     439.418206     0.816004     0.288416    35.399655   \n",
      "min       1.000000     501.000000     0.500000     0.100000    80.000000   \n",
      "25%     500.750000     851.750000     0.700000     0.200000   109.000000   \n",
      "50%    1000.500000    1226.000000     1.500000     0.500000   141.000000   \n",
      "75%    1500.250000    1615.250000     2.200000     0.800000   170.000000   \n",
      "max    2000.000000    1998.000000     3.000000     1.000000   200.000000   \n",
      "\n",
      "               ram   int_memory    talk_time       blue     dual_sim  ...  \\\n",
      "count  2000.000000  2000.000000  2000.000000  2000.0000  2000.000000  ...   \n",
      "mean   2124.213000    32.046500    11.011000     0.4950     0.509500  ...   \n",
      "std    1084.732044    18.145715     5.463955     0.5001     0.500035  ...   \n",
      "min     256.000000     2.000000     2.000000     0.0000     0.000000  ...   \n",
      "25%    1207.500000    16.000000     6.000000     0.0000     0.000000  ...   \n",
      "50%    2146.500000    32.000000    11.000000     0.0000     1.000000  ...   \n",
      "75%    3064.500000    48.000000    16.000000     1.0000     1.000000  ...   \n",
      "max    3998.000000    64.000000    20.000000     1.0000     1.000000  ...   \n",
      "\n",
      "       touch_screen         wifi           fc           pc         sc_h  \\\n",
      "count   2000.000000  2000.000000  2000.000000  2000.000000  2000.000000   \n",
      "mean       0.503000     0.507000     4.309500     9.916500    12.306500   \n",
      "std        0.500116     0.500076     4.341444     6.064315     4.213245   \n",
      "min        0.000000     0.000000     0.000000     0.000000     5.000000   \n",
      "25%        0.000000     0.000000     1.000000     5.000000     9.000000   \n",
      "50%        1.000000     1.000000     3.000000    10.000000    12.000000   \n",
      "75%        1.000000     1.000000     7.000000    15.000000    16.000000   \n",
      "max        1.000000     1.000000    19.000000    20.000000    19.000000   \n",
      "\n",
      "              sc_w    px_height     px_width      n_cores  price_range  \n",
      "count  2000.000000  2000.000000  2000.000000  2000.000000  2000.000000  \n",
      "mean      5.767000   645.108000  1251.515500     4.520500     1.500000  \n",
      "std       4.356398   443.780811   432.199447     2.287837     1.118314  \n",
      "min       0.000000     0.000000   500.000000     1.000000     0.000000  \n",
      "25%       2.000000   282.750000   874.750000     3.000000     0.750000  \n",
      "50%       5.000000   564.000000  1247.000000     4.000000     1.500000  \n",
      "75%       9.000000   947.250000  1633.000000     7.000000     2.250000  \n",
      "max      18.000000  1960.000000  1998.000000     8.000000     3.000000  \n",
      "\n",
      "[8 rows x 22 columns]\n"
     ]
    }
   ],
   "source": [
    "print(df_joined.describe())"
   ]
  },
  {
   "cell_type": "code",
   "execution_count": 8,
   "id": "2e35ecfa-f931-4985-a6f5-c402ba713f89",
   "metadata": {},
   "outputs": [
    {
     "name": "stdout",
     "output_type": "stream",
     "text": [
      "Training Data Overview:\n"
     ]
    },
    {
     "data": {
      "image/png": "[encoded data removed]",
      "text/plain": [
       "<Figure size 1200x1000 with 2 Axes>"
      ]
     },
     "metadata": {},
     "output_type": "display_data"
    }
   ],
   "source": [
    "print(\"Training Data Overview:\")\n",
    "\n",
    "# Correlation matrix\n",
    "plt.figure(figsize=(12, 10))\n",
    "sns.heatmap(df_joined.corr(), annot=False, cmap='coolwarm', linewidths=0.5)\n",
    "plt.title('Correlation Matrix of Features')\n",
    "plt.show()"
   ]
  },
  {
   "cell_type": "code",
   "execution_count": 9,
   "id": "48287263-8045-49df-ae9e-4422d11d653f",
   "metadata": {},
   "outputs": [
    {
     "data": {
      "text/plain": [
       "id               2000\n",
       "battery_power    1094\n",
       "clock_speed        26\n",
       "m_dep              10\n",
       "mobile_wt         121\n",
       "ram              1562\n",
       "int_memory         63\n",
       "talk_time          19\n",
       "blue                2\n",
       "dual_sim            2\n",
       "four_g              2\n",
       "three_g             2\n",
       "touch_screen        2\n",
       "wifi                2\n",
       "fc                 20\n",
       "pc                 21\n",
       "sc_h               15\n",
       "sc_w               19\n",
       "px_height        1137\n",
       "px_width         1109\n",
       "n_cores             8\n",
       "price_range         4\n",
       "dtype: int64"
      ]
     },
     "execution_count": 9,
     "metadata": {},
     "output_type": "execute_result"
    }
   ],
   "source": [
    "df_joined.nunique()"
   ]
  },
  {
   "cell_type": "code",
   "execution_count": 10,
   "id": "d08997cf-6768-4f7c-9079-6974e66c6a40",
   "metadata": {},
   "outputs": [
    {
     "data": {
      "image/png": "[encoded data removed]",
      "text/plain": [
       "<Figure size 800x600 with 1 Axes>"
      ]
     },
     "metadata": {},
     "output_type": "display_data"
    }
   ],
   "source": [
    "plt.figure(figsize=(8, 6))\n",
    "sns.countplot(x='price_range', data=df_joined) \n",
    "plt.title('Price vs Count')\n",
    "plt.xlabel('price range')\n",
    "plt.ylabel(\"Count\")\n",
    "plt.show()"
   ]
  },
  {
   "cell_type": "code",
   "execution_count": 11,
   "id": "343329d4-94fe-498c-81ee-4115ab8a15b1",
   "metadata": {},
   "outputs": [
    {
     "data": {
      "text/plain": [
       "(1500, 21)"
      ]
     },
     "execution_count": 11,
     "metadata": {},
     "output_type": "execute_result"
    }
   ],
   "source": [
    "y = df_joined['price_range']\n",
    "X = df_joined.drop(['price_range'], axis=1)\n",
    "X_train, X_test, y_train, y_test = train_test_split(X, y, test_size=0.25, random_state=42)\n",
    "X_train.shape"
   ]
  },
  {
   "cell_type": "code",
   "execution_count": 12,
   "id": "6a35af1c-a4c9-48c4-8083-7bc0d6bb8d2e",
   "metadata": {},
   "outputs": [
    {
     "data": {
      "image/png": "[encoded data removed]",
      "text/plain": [
       "<Figure size 1000x600 with 1 Axes>"
      ]
     },
     "metadata": {},
     "output_type": "display_data"
    }
   ],
   "source": [
    "plt.figure(figsize=(10, 6))  # Adjust figure size as needed\n",
    "sns.boxplot(x='price_range', y='ram', data=df_joined)\n",
    "plt.title('Distribution of RAM for Each Price Range')\n",
    "plt.xlabel('Price Range')\n",
    "plt.ylabel('RAM')\n",
    "plt.show()"
   ]
  },
  {
   "cell_type": "code",
   "execution_count": 13,
   "id": "6448738b-cc6c-4008-a642-8fb61b4366b0",
   "metadata": {},
   "outputs": [
    {
     "data": {
      "image/png": "[encoded data removed]",
      "text/plain": [
       "<Figure size 1000x600 with 1 Axes>"
      ]
     },
     "metadata": {},
     "output_type": "display_data"
    }
   ],
   "source": [
    "battery_by_price = df_joined.groupby('price_range')['battery_power'].mean()\n",
    "plt.figure(figsize=(10, 6))\n",
    "battery_by_price.plot(kind='line', marker='^')\n",
    "plt.title('Mean Battery Power vs. Price Range')\n",
    "plt.xlabel('Price Range')\n",
    "plt.ylabel('Mean Battery Power')\n",
    "plt.xticks(battery_by_price.index)\n",
    "plt.grid(True)\n",
    "plt.show()"
   ]
  },
  {
   "cell_type": "code",
   "execution_count": 14,
   "id": "c47e15ed-76ea-49b5-8625-8be315cb58c4",
   "metadata": {},
   "outputs": [
    {
     "name": "stdout",
     "output_type": "stream",
     "text": [
      "Requirement already satisfied: mlflow in /opt/anaconda3/lib/python3.12/site-packages (2.19.0)\n",
      "Requirement already satisfied: mlflow-skinny==2.19.0 in /opt/anaconda3/lib/python3.12/site-packages (from mlflow) (2.19.0)\n",
      "Requirement already satisfied: Flask<4 in /opt/anaconda3/lib/python3.12/site-packages (from mlflow) (3.0.3)\n",
      "Requirement already satisfied: Jinja2<4,>=2.11 in /opt/anaconda3/lib/python3.12/site-packages (from mlflow) (3.1.4)\n",
      "Requirement already satisfied: alembic!=1.10.0,<2 in /opt/anaconda3/lib/python3.12/site-packages (from mlflow) (1.14.0)\n",
      "Requirement already satisfied: docker<8,>=4.0.0 in /opt/anaconda3/lib/python3.12/site-packages (from mlflow) (7.1.0)\n",
      "Requirement already satisfied: graphene<4 in /opt/anaconda3/lib/python3.12/site-packages (from mlflow) (3.4.3)\n",
      "Requirement already satisfied: gunicorn<24 in /opt/anaconda3/lib/python3.12/site-packages (from mlflow) (23.0.0)\n",
      "Requirement already satisfied: markdown<4,>=3.3 in /opt/anaconda3/lib/python3.12/site-packages (from mlflow) (3.4.1)\n",
      "Requirement already satisfied: matplotlib<4 in /opt/anaconda3/lib/python3.12/site-packages (from mlflow) (3.8.4)\n",
      "Requirement already satisfied: numpy<3 in /opt/anaconda3/lib/python3.12/site-packages (from mlflow) (1.26.4)\n",
      "Requirement already satisfied: pandas<3 in /opt/anaconda3/lib/python3.12/site-packages (from mlflow) (2.2.2)\n",
      "Requirement already satisfied: pyarrow<19,>=4.0.0 in /opt/anaconda3/lib/python3.12/site-packages (from mlflow) (14.0.2)\n",
      "Requirement already satisfied: scikit-learn<2 in /opt/anaconda3/lib/python3.12/site-packages (from mlflow) (1.4.2)\n",
      "Requirement already satisfied: scipy<2 in /opt/anaconda3/lib/python3.12/site-packages (from mlflow) (1.13.1)\n",
      "Requirement already satisfied: sqlalchemy<3,>=1.4.0 in /opt/anaconda3/lib/python3.12/site-packages (from mlflow) (2.0.30)\n",
      "Requirement already satisfied: cachetools<6,>=5.0.0 in /opt/anaconda3/lib/python3.12/site-packages (from mlflow-skinny==2.19.0->mlflow) (5.3.3)\n",
      "Requirement already satisfied: click<9,>=7.0 in /opt/anaconda3/lib/python3.12/site-packages (from mlflow-skinny==2.19.0->mlflow) (8.1.7)\n",
      "Requirement already satisfied: cloudpickle<4 in /opt/anaconda3/lib/python3.12/site-packages (from mlflow-skinny==2.19.0->mlflow) (2.2.1)\n",
      "Requirement already satisfied: databricks-sdk<1,>=0.20.0 in /opt/anaconda3/lib/python3.12/site-packages (from mlflow-skinny==2.19.0->mlflow) (0.40.0)\n",
      "Requirement already satisfied: gitpython<4,>=3.1.9 in /opt/anaconda3/lib/python3.12/site-packages (from mlflow-skinny==2.19.0->mlflow) (3.1.37)\n",
      "Requirement already satisfied: importlib_metadata!=4.7.0,<9,>=3.7.0 in /opt/anaconda3/lib/python3.12/site-packages (from mlflow-skinny==2.19.0->mlflow) (7.0.1)\n",
      "Requirement already satisfied: opentelemetry-api<3,>=1.9.0 in /opt/anaconda3/lib/python3.12/site-packages (from mlflow-skinny==2.19.0->mlflow) (1.29.0)\n",
      "Requirement already satisfied: opentelemetry-sdk<3,>=1.9.0 in /opt/anaconda3/lib/python3.12/site-packages (from mlflow-skinny==2.19.0->mlflow) (1.29.0)\n",
      "Requirement already satisfied: packaging<25 in /opt/anaconda3/lib/python3.12/site-packages (from mlflow-skinny==2.19.0->mlflow) (23.2)\n",
      "Requirement already satisfied: protobuf<6,>=3.12.0 in /opt/anaconda3/lib/python3.12/site-packages (from mlflow-skinny==2.19.0->mlflow) (3.20.3)\n",
      "Requirement already satisfied: pyyaml<7,>=5.1 in /opt/anaconda3/lib/python3.12/site-packages (from mlflow-skinny==2.19.0->mlflow) (6.0.1)\n",
      "Requirement already satisfied: requests<3,>=2.17.3 in /opt/anaconda3/lib/python3.12/site-packages (from mlflow-skinny==2.19.0->mlflow) (2.32.2)\n",
      "Requirement already satisfied: sqlparse<1,>=0.4.0 in /opt/anaconda3/lib/python3.12/site-packages (from mlflow-skinny==2.19.0->mlflow) (0.5.3)\n",
      "Requirement already satisfied: Mako in /opt/anaconda3/lib/python3.12/site-packages (from alembic!=1.10.0,<2->mlflow) (1.3.8)\n",
      "Requirement already satisfied: typing-extensions>=4 in /opt/anaconda3/lib/python3.12/site-packages (from alembic!=1.10.0,<2->mlflow) (4.11.0)\n",
      "Requirement already satisfied: urllib3>=1.26.0 in /opt/anaconda3/lib/python3.12/site-packages (from docker<8,>=4.0.0->mlflow) (2.2.2)\n",
      "Requirement already satisfied: Werkzeug>=3.0.0 in /opt/anaconda3/lib/python3.12/site-packages (from Flask<4->mlflow) (3.0.3)\n",
      "Requirement already satisfied: itsdangerous>=2.1.2 in /opt/anaconda3/lib/python3.12/site-packages (from Flask<4->mlflow) (2.2.0)\n",
      "Requirement already satisfied: blinker>=1.6.2 in /opt/anaconda3/lib/python3.12/site-packages (from Flask<4->mlflow) (1.6.2)\n",
      "Requirement already satisfied: graphql-core<3.3,>=3.1 in /opt/anaconda3/lib/python3.12/site-packages (from graphene<4->mlflow) (3.2.5)\n",
      "Requirement already satisfied: graphql-relay<3.3,>=3.1 in /opt/anaconda3/lib/python3.12/site-packages (from graphene<4->mlflow) (3.2.0)\n",
      "Requirement already satisfied: python-dateutil<3,>=2.7.0 in /opt/anaconda3/lib/python3.12/site-packages (from graphene<4->mlflow) (2.9.0.post0)\n",
      "Requirement already satisfied: MarkupSafe>=2.0 in /opt/anaconda3/lib/python3.12/site-packages (from Jinja2<4,>=2.11->mlflow) (2.1.3)\n",
      "Requirement already satisfied: contourpy>=1.0.1 in /opt/anaconda3/lib/python3.12/site-packages (from matplotlib<4->mlflow) (1.2.0)\n",
      "Requirement already satisfied: cycler>=0.10 in /opt/anaconda3/lib/python3.12/site-packages (from matplotlib<4->mlflow) (0.11.0)\n",
      "Requirement already satisfied: fonttools>=4.22.0 in /opt/anaconda3/lib/python3.12/site-packages (from matplotlib<4->mlflow) (4.51.0)\n",
      "Requirement already satisfied: kiwisolver>=1.3.1 in /opt/anaconda3/lib/python3.12/site-packages (from matplotlib<4->mlflow) (1.4.4)\n",
      "Requirement already satisfied: pillow>=8 in /opt/anaconda3/lib/python3.12/site-packages (from matplotlib<4->mlflow) (10.3.0)\n",
      "Requirement already satisfied: pyparsing>=2.3.1 in /opt/anaconda3/lib/python3.12/site-packages (from matplotlib<4->mlflow) (3.0.9)\n",
      "Requirement already satisfied: pytz>=2020.1 in /opt/anaconda3/lib/python3.12/site-packages (from pandas<3->mlflow) (2024.1)\n",
      "Requirement already satisfied: tzdata>=2022.7 in /opt/anaconda3/lib/python3.12/site-packages (from pandas<3->mlflow) (2023.3)\n",
      "Requirement already satisfied: joblib>=1.2.0 in /opt/anaconda3/lib/python3.12/site-packages (from scikit-learn<2->mlflow) (1.4.2)\n",
      "Requirement already satisfied: threadpoolctl>=2.0.0 in /opt/anaconda3/lib/python3.12/site-packages (from scikit-learn<2->mlflow) (2.2.0)\n",
      "Requirement already satisfied: google-auth~=2.0 in /opt/anaconda3/lib/python3.12/site-packages (from databricks-sdk<1,>=0.20.0->mlflow-skinny==2.19.0->mlflow) (2.37.0)\n",
      "Requirement already satisfied: gitdb<5,>=4.0.1 in /opt/anaconda3/lib/python3.12/site-packages (from gitpython<4,>=3.1.9->mlflow-skinny==2.19.0->mlflow) (4.0.7)\n",
      "Requirement already satisfied: zipp>=0.5 in /opt/anaconda3/lib/python3.12/site-packages (from importlib_metadata!=4.7.0,<9,>=3.7.0->mlflow-skinny==2.19.0->mlflow) (3.17.0)\n",
      "Requirement already satisfied: deprecated>=1.2.6 in /opt/anaconda3/lib/python3.12/site-packages (from opentelemetry-api<3,>=1.9.0->mlflow-skinny==2.19.0->mlflow) (1.2.15)\n",
      "Requirement already satisfied: opentelemetry-semantic-conventions==0.50b0 in /opt/anaconda3/lib/python3.12/site-packages (from opentelemetry-sdk<3,>=1.9.0->mlflow-skinny==2.19.0->mlflow) (0.50b0)\n",
      "Requirement already satisfied: six>=1.5 in /opt/anaconda3/lib/python3.12/site-packages (from python-dateutil<3,>=2.7.0->graphene<4->mlflow) (1.16.0)\n",
      "Requirement already satisfied: charset-normalizer<4,>=2 in /opt/anaconda3/lib/python3.12/site-packages (from requests<3,>=2.17.3->mlflow-skinny==2.19.0->mlflow) (2.0.4)\n",
      "Requirement already satisfied: idna<4,>=2.5 in /opt/anaconda3/lib/python3.12/site-packages (from requests<3,>=2.17.3->mlflow-skinny==2.19.0->mlflow) (3.7)\n",
      "Requirement already satisfied: certifi>=2017.4.17 in /opt/anaconda3/lib/python3.12/site-packages (from requests<3,>=2.17.3->mlflow-skinny==2.19.0->mlflow) (2024.7.4)\n",
      "Requirement already satisfied: wrapt<2,>=1.10 in /opt/anaconda3/lib/python3.12/site-packages (from deprecated>=1.2.6->opentelemetry-api<3,>=1.9.0->mlflow-skinny==2.19.0->mlflow) (1.14.1)\n",
      "Requirement already satisfied: smmap<5,>=3.0.1 in /opt/anaconda3/lib/python3.12/site-packages (from gitdb<5,>=4.0.1->gitpython<4,>=3.1.9->mlflow-skinny==2.19.0->mlflow) (4.0.0)\n",
      "Requirement already satisfied: pyasn1-modules>=0.2.1 in /opt/anaconda3/lib/python3.12/site-packages (from google-auth~=2.0->databricks-sdk<1,>=0.20.0->mlflow-skinny==2.19.0->mlflow) (0.2.8)\n",
      "Requirement already satisfied: rsa<5,>=3.1.4 in /opt/anaconda3/lib/python3.12/site-packages (from google-auth~=2.0->databricks-sdk<1,>=0.20.0->mlflow-skinny==2.19.0->mlflow) (4.9)\n",
      "Requirement already satisfied: pyasn1<0.5.0,>=0.4.6 in /opt/anaconda3/lib/python3.12/site-packages (from pyasn1-modules>=0.2.1->google-auth~=2.0->databricks-sdk<1,>=0.20.0->mlflow-skinny==2.19.0->mlflow) (0.4.8)\n"
     ]
    }
   ],
   "source": [
    "!pip install mlflow"
   ]
  },
  {
   "cell_type": "code",
   "execution_count": 15,
   "id": "db1fc6a7-c958-47c1-a51e-8d0c5a0eff65",
   "metadata": {},
   "outputs": [
    {
     "data": {
      "text/html": [
       "<pre style=\"white-space:pre;overflow-x:auto;line-height:normal;font-family:Menlo,'DejaVu Sans Mono',consolas,'Courier New',monospace\">Accessing as sreenathreddy6633\n",
       "</pre>\n"
      ],
      "text/plain": [
       "Accessing as sreenathreddy6633\n"
      ]
     },
     "metadata": {},
     "output_type": "display_data"
    },
    {
     "data": {
      "text/html": [
       "<pre style=\"white-space:pre;overflow-x:auto;line-height:normal;font-family:Menlo,'DejaVu Sans Mono',consolas,'Courier New',monospace\">Initialized MLflow to track repo <span style=\"color: #008000; text-decoration-color: #008000\">\"sreenathreddy6633/price-detection\"</span>\n",
       "</pre>\n"
      ],
      "text/plain": [
       "Initialized MLflow to track repo \u001b[32m\"sreenathreddy6633/price-detection\"\u001b[0m\n"
      ]
     },
     "metadata": {},
     "output_type": "display_data"
    },
    {
     "data": {
      "text/html": [
       "<pre style=\"white-space:pre;overflow-x:auto;line-height:normal;font-family:Menlo,'DejaVu Sans Mono',consolas,'Courier New',monospace\">Repository sreenathreddy6633/price-detection initialized!\n",
       "</pre>\n"
      ],
      "text/plain": [
       "Repository sreenathreddy6633/price-detection initialized!\n"
      ]
     },
     "metadata": {},
     "output_type": "display_data"
    }
   ],
   "source": [
    "import dagshub\n",
    "dagshub.init(repo_owner='sreenathreddy6633', repo_name='price-detection', mlflow=True)"
   ]
  },
  {
   "cell_type": "code",
   "execution_count": 23,
   "id": "2dbc95d8-20a7-4172-b699-55b5f6e9a3d5",
   "metadata": {},
   "outputs": [
    {
     "name": "stderr",
     "output_type": "stream",
     "text": [
      "2024/12/20 04:20:39 INFO mlflow.tracking.fluent: Experiment with name 'Experiment_1' does not exist. Creating a new experiment.\n"
     ]
    },
    {
     "data": {
      "text/plain": [
       "<Experiment: artifact_location='mlflow-artifacts:/1c36711f23c84b3f8eab8eb80ae4d531', creation_time=1734686438983, experiment_id='9', last_update_time=1734686438983, lifecycle_stage='active', name='Experiment_1', tags={}>"
      ]
     },
     "execution_count": 23,
     "metadata": {},
     "output_type": "execute_result"
    }
   ],
   "source": [
    "import mlflow\n",
    "\n",
    "mlflow.set_tracking_uri(\"https://dagshub.com/sreenathreddy6633/price-detection.mlflow\")\n",
    "mlflow.set_experiment(\"Experiment_1\")"
   ]
  },
  {
   "cell_type": "code",
   "execution_count": 110,
   "id": "93a695b4-39ac-498a-8803-6fc553f245e9",
   "metadata": {},
   "outputs": [
    {
     "name": "stdout",
     "output_type": "stream",
     "text": [
      "Fitting 10 folds for each of 3 candidates, totalling 30 fits\n",
      "Best F1 Score (CV): 0.852 ± 0.096\n",
      "🏃 View run unleashed-fox-299 at: https://dagshub.com/sreenathreddy6633/price-detection.mlflow/#/experiments/15/runs/18830da3c84846eca80649a413f06b6f\n",
      "🧪 View experiment at: https://dagshub.com/sreenathreddy6633/price-detection.mlflow/#/experiments/15\n"
     ]
    }
   ],
   "source": [
    "from sklearn.model_selection import cross_val_score, StratifiedKFold, GridSearchCV\n",
    "from sklearn.pipeline import Pipeline\n",
    "from sklearn.compose import ColumnTransformer\n",
    "from sklearn.preprocessing import StandardScaler, MinMaxScaler, OneHotEncoder, FunctionTransformer\n",
    "from sklearn.linear_model import LogisticRegression\n",
    "from sklearn.metrics import make_scorer, f1_score, confusion_matrix\n",
    "from sklearn.impute import SimpleImputer\n",
    "import mlflow\n",
    "from mlflow import log_param, log_metric\n",
    "from dagshub import DAGsHubLogger,  dagshub_logger\n",
    "\n",
    "\n",
    "# Split numerical and categorical columns\n",
    "numerical_features = X.select_dtypes(include=[\"int64\", \"float64\"]).columns\n",
    "categorical_features = X.select_dtypes(include=[\"object\"]).columns\n",
    "\n",
    "# Define preprocessing steps\n",
    "numerical_transformer = Pipeline(steps=[\n",
    "    (\"imputer\", SimpleImputer(strategy=\"median\")),\n",
    "    (\"scaler\", MinMaxScaler())\n",
    "])\n",
    "\n",
    "categorical_transformer = Pipeline(steps=[\n",
    "    (\"imputer\", SimpleImputer(strategy=\"most_frequent\")),\n",
    "    (\"onehot\", OneHotEncoder(handle_unknown=\"ignore\"))\n",
    "])\n",
    "\n",
    "log_transformer = FunctionTransformer(np.log1p, validate=True)\n",
    "\n",
    "preprocessor = ColumnTransformer(\n",
    "    transformers=[\n",
    "        (\"num\", numerical_transformer, numerical_features),\n",
    "        (\"cat\", categorical_transformer, categorical_features)\n",
    "    ]\n",
    ")\n",
    "\n",
    "pipeline = Pipeline(steps=[\n",
    "    (\"preprocessor\", preprocessor),\n",
    "    (\"log_transform\", log_transformer),\n",
    "    (\"classifier\", LogisticRegression(max_iter=1000))\n",
    "])\n",
    "\n",
    "# Define cross-validation strategy\n",
    "cv = StratifiedKFold(n_splits=10, shuffle=True, random_state=42)\n",
    "\n",
    "# Define scoring metrics\n",
    "scoring = {\n",
    "    \"f1\": make_scorer(f1_score, average=\"weighted\"),\n",
    "}\n",
    "\n",
    "# Define hyperparameter grid\n",
    "param_grid = {\n",
    "    \"classifier__C\": [0.1, 1, 10],\n",
    "    \"classifier__penalty\": [\"l2\"],\n",
    "}\n",
    "\n",
    "# Initialize GridSearchCV\n",
    "grid_search = GridSearchCV(\n",
    "    estimator=pipeline,\n",
    "    param_grid=param_grid,\n",
    "    scoring=scoring,\n",
    "    refit=\"f1\",\n",
    "    cv=cv,\n",
    "    return_train_score=True,\n",
    "    verbose=3,\n",
    "    n_jobs=-1\n",
    ")\n",
    "\n",
    "with mlflow.start_run() as run:\n",
    "    # Fit the GridSearchCV\n",
    "    grid_search.fit(X, y)\n",
    "\n",
    "    # Log best parameters\n",
    "    mlflow.log_params(grid_search.best_params_)\n",
    "\n",
    "    # Log mean and std of cross-validation scores\n",
    "    cv_results = grid_search.cv_results_\n",
    "    f1_mean = np.mean(cv_results[\"mean_test_f1\"])\n",
    "    f1_std = np.std(cv_results[\"mean_test_f1\"])\n",
    "    mlflow.log_metric(\"f1_mean\", f1_mean)\n",
    "    mlflow.log_metric(\"f1_std\", f1_std)\n",
    "\n",
    "    # Log confusion matrix on the whole training data\n",
    "    best_model = grid_search.best_estimator_\n",
    "    y_pred = best_model.predict(X)\n",
    "\n",
    "    cm = confusion_matrix(y, y_pred)\n",
    "    cm_str = str(cm.tolist())\n",
    "\n",
    "    mlflow.log_text(cm_str, \"confusion_matrix/confusion_matrix.txt\")\n",
    "\n",
    "    # Print results\n",
    "    print(f\"Best F1 Score (CV): {f1_mean:.3f} ± {f1_std:.3f}\")"
   ]
  },
  {
   "cell_type": "markdown",
   "id": "3ff65c8d-bccc-46e3-bfa3-96cb4d0c55ef",
   "metadata": {},
   "source": [
    "# Experiment 2"
   ]
  },
  {
   "cell_type": "code",
   "execution_count": 112,
   "id": "fa66be8e-5971-4e2d-ab88-3e16361b2770",
   "metadata": {},
   "outputs": [
    {
     "name": "stderr",
     "output_type": "stream",
     "text": [
      "\u001b[31m2024/12/20 14:54:52 WARNING mlflow.models.model: Model logged without a signature and input example. Please set `input_example` parameter when logging the model to auto infer the model signature.\u001b[0m\n"
     ]
    },
    {
     "name": "stdout",
     "output_type": "stream",
     "text": [
      "LogisticRegression: Accuracy = 0.9620, F1 Score = 0.9619\n",
      "🏃 View run LogisticRegression at: https://dagshub.com/sreenathreddy6633/price-detection.mlflow/#/experiments/10/runs/aff57b60cc034354add104524cb93f54\n",
      "🧪 View experiment at: https://dagshub.com/sreenathreddy6633/price-detection.mlflow/#/experiments/10\n"
     ]
    },
    {
     "name": "stderr",
     "output_type": "stream",
     "text": [
      "\u001b[31m2024/12/20 14:54:57 WARNING mlflow.models.model: Model logged without a signature and input example. Please set `input_example` parameter when logging the model to auto infer the model signature.\u001b[0m\n"
     ]
    },
    {
     "name": "stdout",
     "output_type": "stream",
     "text": [
      "RidgeClassifier: Accuracy = 0.6400, F1 Score = 0.5770\n",
      "🏃 View run RidgeClassifier at: https://dagshub.com/sreenathreddy6633/price-detection.mlflow/#/experiments/10/runs/f32003339efd4dec85b697a9f66b408e\n",
      "🧪 View experiment at: https://dagshub.com/sreenathreddy6633/price-detection.mlflow/#/experiments/10\n"
     ]
    },
    {
     "name": "stderr",
     "output_type": "stream",
     "text": [
      "\u001b[31m2024/12/20 14:55:10 WARNING mlflow.models.model: Model logged without a signature and input example. Please set `input_example` parameter when logging the model to auto infer the model signature.\u001b[0m\n"
     ]
    },
    {
     "name": "stdout",
     "output_type": "stream",
     "text": [
      "RandomForestClassifier: Accuracy = 0.8720, F1 Score = 0.8719\n",
      "🏃 View run RandomForestClassifier at: https://dagshub.com/sreenathreddy6633/price-detection.mlflow/#/experiments/10/runs/cfd3f4b61f024568a13145197a098f41\n",
      "🧪 View experiment at: https://dagshub.com/sreenathreddy6633/price-detection.mlflow/#/experiments/10\n"
     ]
    },
    {
     "name": "stderr",
     "output_type": "stream",
     "text": [
      "\u001b[31m2024/12/20 14:55:23 WARNING mlflow.models.model: Model logged without a signature and input example. Please set `input_example` parameter when logging the model to auto infer the model signature.\u001b[0m\n"
     ]
    },
    {
     "name": "stdout",
     "output_type": "stream",
     "text": [
      "XGBClassifier: Accuracy = 0.9000, F1 Score = 0.9000\n",
      "🏃 View run XGBClassifier at: https://dagshub.com/sreenathreddy6633/price-detection.mlflow/#/experiments/10/runs/94574fe245be44bcb31cbcc5631a5c62\n",
      "🧪 View experiment at: https://dagshub.com/sreenathreddy6633/price-detection.mlflow/#/experiments/10\n"
     ]
    }
   ],
   "source": [
    "\n",
    "from sklearn.metrics import accuracy_score, f1_score\n",
    "# Define models for the experiment\n",
    "models = {\n",
    "    \"LogisticRegression\": LogisticRegression(max_iter=1000, random_state=42),\n",
    "    \"RidgeClassifier\": RidgeClassifier(random_state=42),\n",
    "    \"RandomForestClassifier\": RandomForestClassifier(random_state=42, n_jobs=-1),\n",
    "    \"XGBClassifier\": XGBClassifier(random_state=42, n_jobs=-1)\n",
    "}\n",
    "\n",
    "# Define preprocessing pipeline\n",
    "preprocessing = Pipeline([\n",
    "    (\"scaler\", StandardScaler())\n",
    "])\n",
    "\n",
    "# Setup MLFlow with DagsHub\n",
    "mlflow.set_experiment(\"Experiment_2\")\n",
    "\n",
    "# Run models and log results\n",
    "with dagshub.dagshub_logger() as logger:\n",
    "    for model_name, model in models.items():\n",
    "        with mlflow.start_run(run_name=model_name):\n",
    "            # Preprocessing\n",
    "            X_train_preprocessed = preprocessing.fit_transform(X_train)\n",
    "            X_test_preprocessed = preprocessing.transform(X_test)\n",
    "\n",
    "            # Model fitting\n",
    "            model.fit(X_train_preprocessed, y_train)\n",
    "\n",
    "            # Predictions\n",
    "            y_pred = model.predict(X_test_preprocessed)\n",
    "\n",
    "            # Metrics\n",
    "            acc = accuracy_score(y_test, y_pred)\n",
    "            f1 = f1_score(y_test, y_pred, average=\"weighted\")\n",
    "\n",
    "            # Log parameters, metrics, and model\n",
    "            log_param(\"model\", model_name)\n",
    "            log_metric(\"accuracy\", acc)\n",
    "            log_metric(\"f1_score\", f1)\n",
    "\n",
    "            logger.log_metrics({\"accuracy\": acc, \"f1_score\": f1})\n",
    "            mlflow.sklearn.log_model(model, model_name)\n",
    "            print(f\"{model_name}: Accuracy = {acc:.4f}, F1 Score = {f1:.4f}\")\n"
   ]
  },
  {
   "cell_type": "code",
   "execution_count": null,
   "id": "d5be07cf-57b0-46cd-a591-ce32a810c93d",
   "metadata": {},
   "outputs": [],
   "source": []
  },
  {
   "cell_type": "markdown",
   "id": "15cba7d3-2d82-4d83-99c7-9b428bc56fe5",
   "metadata": {},
   "source": [
    "# Experiment 3"
   ]
  },
  {
   "cell_type": "code",
   "execution_count": 28,
   "id": "c668193b-27b4-4f78-8764-c5e4cb0386c6",
   "metadata": {},
   "outputs": [],
   "source": [
    "# Feature interactions\n",
    "def feature_engineering(df):\n",
    "    df_fe = df.copy()\n",
    "    df_fe[\"battery_to_weight_ratio\"] = df_fe[\"battery_power\"] / df_fe[\"mobile_wt\"]\n",
    "    df_fe[\"ram_to_core_ratio\"] = df_fe[\"ram\"] / df_fe[\"n_cores\"]\n",
    "    # Scaling features\n",
    "    df_fe[\"scaled_clock_speed\"] = np.log1p(df_fe[\"clock_speed\"])\n",
    "    # Additional combinations\n",
    "    df_fe[\"px_resolution\"] = df_fe[\"px_height\"] * df_fe[\"px_width\"] \n",
    "    df_fe[\"sc_aspect_ratio\"] = df_fe[\"sc_h\"] / np.maximum(df_fe[\"sc_w\"], 1)\n",
    "    df_fe.drop(['sc_h', 'clock_speed'], axis = 1)\n",
    "    return df_fe"
   ]
  },
  {
   "cell_type": "code",
   "execution_count": 29,
   "id": "98d1b18f-c9b4-4a2b-bf1b-44e8f44dbce3",
   "metadata": {},
   "outputs": [
    {
     "name": "stdout",
     "output_type": "stream",
     "text": [
      "X_train_fe type: <class 'pandas.core.frame.DataFrame'>\n",
      "X_test_fe type: <class 'pandas.core.frame.DataFrame'>\n"
     ]
    }
   ],
   "source": [
    "X_train_fe = feature_engineering(X_train)\n",
    "X_test_fe = feature_engineering(X_test)\n",
    "\n",
    "print(\"X_train_fe type:\", type(X_train_fe))\n",
    "print(\"X_test_fe type:\", type(X_test_fe))"
   ]
  },
  {
   "cell_type": "code",
   "execution_count": 30,
   "id": "76863321-0230-40c0-9c0e-8d9215e2349d",
   "metadata": {},
   "outputs": [
    {
     "name": "stderr",
     "output_type": "stream",
     "text": [
      "2024/12/20 04:22:09 INFO mlflow.tracking.fluent: Experiment with name 'Experiment_3' does not exist. Creating a new experiment.\n",
      "\u001b[31m2024/12/20 04:22:11 WARNING mlflow.models.model: Model logged without a signature and input example. Please set `input_example` parameter when logging the model to auto infer the model signature.\u001b[0m\n"
     ]
    },
    {
     "name": "stdout",
     "output_type": "stream",
     "text": [
      "LogisticRegression: Accuracy = 0.9500, F1 Score = 0.9499\n",
      "🏃 View run LogisticRegression at: https://dagshub.com/sreenathreddy6633/price-detection.mlflow/#/experiments/11/runs/c77bd0fc4b8149d3923d021a438a2bd7\n",
      "🧪 View experiment at: https://dagshub.com/sreenathreddy6633/price-detection.mlflow/#/experiments/11\n"
     ]
    },
    {
     "name": "stderr",
     "output_type": "stream",
     "text": [
      "\u001b[31m2024/12/20 04:22:24 WARNING mlflow.models.model: Model logged without a signature and input example. Please set `input_example` parameter when logging the model to auto infer the model signature.\u001b[0m\n"
     ]
    },
    {
     "name": "stdout",
     "output_type": "stream",
     "text": [
      "RidgeClassifier: Accuracy = 0.6280, F1 Score = 0.5640\n",
      "🏃 View run RidgeClassifier at: https://dagshub.com/sreenathreddy6633/price-detection.mlflow/#/experiments/11/runs/f6bc29f4baee476db4491ca2d49fe8a3\n",
      "🧪 View experiment at: https://dagshub.com/sreenathreddy6633/price-detection.mlflow/#/experiments/11\n"
     ]
    },
    {
     "name": "stderr",
     "output_type": "stream",
     "text": [
      "\u001b[31m2024/12/20 04:22:38 WARNING mlflow.models.model: Model logged without a signature and input example. Please set `input_example` parameter when logging the model to auto infer the model signature.\u001b[0m\n"
     ]
    },
    {
     "name": "stdout",
     "output_type": "stream",
     "text": [
      "RandomForestClassifier: Accuracy = 0.8920, F1 Score = 0.8924\n",
      "🏃 View run RandomForestClassifier at: https://dagshub.com/sreenathreddy6633/price-detection.mlflow/#/experiments/11/runs/9173dc4a702d47128573f40c010fe97f\n",
      "🧪 View experiment at: https://dagshub.com/sreenathreddy6633/price-detection.mlflow/#/experiments/11\n"
     ]
    },
    {
     "name": "stderr",
     "output_type": "stream",
     "text": [
      "\u001b[31m2024/12/20 04:22:50 WARNING mlflow.models.model: Model logged without a signature and input example. Please set `input_example` parameter when logging the model to auto infer the model signature.\u001b[0m\n"
     ]
    },
    {
     "name": "stdout",
     "output_type": "stream",
     "text": [
      "XGBClassifier: Accuracy = 0.8980, F1 Score = 0.8983\n",
      "🏃 View run XGBClassifier at: https://dagshub.com/sreenathreddy6633/price-detection.mlflow/#/experiments/11/runs/9b6c65a3542d49d89e54e31699460865\n",
      "🧪 View experiment at: https://dagshub.com/sreenathreddy6633/price-detection.mlflow/#/experiments/11\n"
     ]
    }
   ],
   "source": [
    "\n",
    "preprocessing = Pipeline([\n",
    "    (\"scaler\", StandardScaler())\n",
    "])\n",
    "\n",
    "# Setup MLFlow with DagsHub\n",
    "mlflow.set_tracking_uri(\"https://dagshub.com/sreenathreddy6633/price-detection.mlflow\")  # Replace with your DagsHub repo\n",
    "mlflow.set_experiment(\"Experiment_3\")\n",
    "\n",
    "# Run models and log results\n",
    "with dagshub.dagshub_logger() as logger:\n",
    "    for model_name, model in models.items():\n",
    "        with mlflow.start_run(run_name=model_name):\n",
    "            # Preprocessing\n",
    "            X_train_fe = preprocessing.fit_transform(X_train_fe)\n",
    "            X_test_fe = preprocessing.transform(X_test_fe)\n",
    "\n",
    "            # Model fitting\n",
    "            model.fit(X_train_fe, y_train)\n",
    "\n",
    "            # Predictions\n",
    "            y_pred = model.predict(X_test_fe)\n",
    "\n",
    "            # Metrics\n",
    "            acc = accuracy_score(y_test, y_pred)\n",
    "            f1 = f1_score(y_test, y_pred, average=\"weighted\")\n",
    "\n",
    "            # Log parameters, metrics, and model\n",
    "            log_param(\"model\", model_name)\n",
    "            log_metric(\"accuracy\", acc)\n",
    "            log_metric(\"f1_score\", f1)\n",
    "\n",
    "            logger.log_metrics({\"accuracy\": acc, \"f1_score\": f1})\n",
    "            mlflow.sklearn.log_model(model, model_name)\n",
    "            print(f\"{model_name}: Accuracy = {acc:.4f}, F1 Score = {f1:.4f}\")\n"
   ]
  },
  {
   "cell_type": "markdown",
   "id": "5f152ecb-44c4-4677-8b6a-784db2b9e4c7",
   "metadata": {},
   "source": [
    "# Experiment 4"
   ]
  },
  {
   "cell_type": "code",
   "execution_count": 39,
   "id": "35f703c0-73eb-4b47-9b56-0d7b14fbb589",
   "metadata": {},
   "outputs": [
    {
     "name": "stderr",
     "output_type": "stream",
     "text": [
      "2024/12/20 04:23:24 INFO mlflow.tracking.fluent: Experiment with name 'Experiment_4' does not exist. Creating a new experiment.\n"
     ]
    },
    {
     "name": "stdout",
     "output_type": "stream",
     "text": [
      "Feature selection completed. Results logged in MLFlow.\n",
      "🏃 View run Feature_Selection at: https://dagshub.com/sreenathreddy6633/price-detection.mlflow/#/experiments/12/runs/72bc70fbdd144873ba61fadfc245a34d\n",
      "🧪 View experiment at: https://dagshub.com/sreenathreddy6633/price-detection.mlflow/#/experiments/12\n"
     ]
    }
   ],
   "source": [
    "# Correlation Threshold\n",
    "def correlation_threshold(data, threshold=0.8):\n",
    "    corr_matrix = data.corr().abs()\n",
    "    upper = corr_matrix.where(np.triu(np.ones(corr_matrix.shape), k=1).astype(bool))\n",
    "    to_drop = [column for column in upper.columns if any(upper[column] > threshold)]\n",
    "    return to_drop\n",
    "\n",
    "# Variance Threshold\n",
    "def variance_threshold(data, threshold=0.01):\n",
    "    selector = VarianceThreshold(threshold)\n",
    "    selector.fit(data)\n",
    "    return data.columns[~selector.get_support()]\n",
    "\n",
    "# Feature Importance\n",
    "def feature_importance(data, target, num_features=10):\n",
    "    rf = RandomForestClassifier(random_state=42, n_jobs=-1)\n",
    "    rf.fit(data, target)\n",
    "    importance = pd.DataFrame({\n",
    "        \"Feature\": data.columns,\n",
    "        \"Importance\": rf.feature_importances_\n",
    "    }).sort_values(by=\"Importance\", ascending=False)\n",
    "    return importance.head(num_features)\n",
    "\n",
    "# Preprocess and split data\n",
    "X_train_selected = X_train.copy()\n",
    "y_train_selected = y_train.copy()\n",
    "\n",
    "# Correlation Threshold\n",
    "correlated_features = correlation_threshold(X_train_selected, threshold=0.8)\n",
    "X_train_selected.drop(columns=correlated_features, inplace=True)\n",
    "\n",
    "# Variance Threshold\n",
    "low_variance_features = variance_threshold(X_train_selected, threshold=0.01)\n",
    "X_train_selected.drop(columns=low_variance_features, inplace=True)\n",
    "\n",
    "# Feature Importance\n",
    "important_features = feature_importance(X_train_selected, y_train_selected, num_features=10)\n",
    "X_train_selected = X_train_selected[important_features[\"Feature\"]]\n",
    "\n",
    "# Setup MLFlow with DagsHub\n",
    "mlflow.set_tracking_uri(\"https://dagshub.com/sreenathreddy6633/price-detection.mlflow\")  # Replace with your DagsHub repo\n",
    "mlflow.set_experiment(\"Experiment_4\")\n",
    "\n",
    "# Log feature selection results\n",
    "with dagshub_logger() as logger:\n",
    "    with mlflow.start_run(run_name=\"Feature_Selection\"):\n",
    "        # Log parameters and features\n",
    "        log_param(\"correlated_features_removed\", correlated_features)\n",
    "        log_param(\"low_variance_features_removed\", low_variance_features)\n",
    "        log_param(\"important_features\", important_features[\"Feature\"].tolist())\n",
    "\n",
    "        # Log metrics and artifacts\n",
    "        mlflow.log_text(str(important_features), \"selected_features/selected_features.txt\")\n",
    "        print(\"Feature selection completed. Results logged in MLFlow.\")"
   ]
  },
  {
   "cell_type": "code",
   "execution_count": 41,
   "id": "a4e565c6-c3b1-48be-96ef-e1b97d073847",
   "metadata": {},
   "outputs": [
    {
     "name": "stderr",
     "output_type": "stream",
     "text": [
      "\u001b[31m2024/12/20 04:23:34 WARNING mlflow.models.model: Model logged without a signature and input example. Please set `input_example` parameter when logging the model to auto infer the model signature.\u001b[0m\n"
     ]
    },
    {
     "name": "stdout",
     "output_type": "stream",
     "text": [
      "LogisticRegression: Accuracy = 0.9720, F1 Score = 0.9719\n",
      "🏃 View run LogisticRegression at: https://dagshub.com/sreenathreddy6633/price-detection.mlflow/#/experiments/12/runs/67a1696f21d247328066e8a3d1caa54f\n",
      "🧪 View experiment at: https://dagshub.com/sreenathreddy6633/price-detection.mlflow/#/experiments/12\n"
     ]
    },
    {
     "name": "stderr",
     "output_type": "stream",
     "text": [
      "\u001b[31m2024/12/20 04:23:40 WARNING mlflow.models.model: Model logged without a signature and input example. Please set `input_example` parameter when logging the model to auto infer the model signature.\u001b[0m\n"
     ]
    },
    {
     "name": "stdout",
     "output_type": "stream",
     "text": [
      "RidgeClassifier: Accuracy = 0.6000, F1 Score = 0.5134\n",
      "🏃 View run RidgeClassifier at: https://dagshub.com/sreenathreddy6633/price-detection.mlflow/#/experiments/12/runs/3862eeb0aadf457da1e4ab4587a1ed4c\n",
      "🧪 View experiment at: https://dagshub.com/sreenathreddy6633/price-detection.mlflow/#/experiments/12\n"
     ]
    },
    {
     "name": "stderr",
     "output_type": "stream",
     "text": [
      "\u001b[31m2024/12/20 04:23:53 WARNING mlflow.models.model: Model logged without a signature and input example. Please set `input_example` parameter when logging the model to auto infer the model signature.\u001b[0m\n"
     ]
    },
    {
     "name": "stdout",
     "output_type": "stream",
     "text": [
      "RandomForestClassifier: Accuracy = 0.9000, F1 Score = 0.8999\n",
      "🏃 View run RandomForestClassifier at: https://dagshub.com/sreenathreddy6633/price-detection.mlflow/#/experiments/12/runs/bc544089e6184f9797860bf1238e3138\n",
      "🧪 View experiment at: https://dagshub.com/sreenathreddy6633/price-detection.mlflow/#/experiments/12\n"
     ]
    },
    {
     "name": "stderr",
     "output_type": "stream",
     "text": [
      "\u001b[31m2024/12/20 04:24:06 WARNING mlflow.models.model: Model logged without a signature and input example. Please set `input_example` parameter when logging the model to auto infer the model signature.\u001b[0m\n"
     ]
    },
    {
     "name": "stdout",
     "output_type": "stream",
     "text": [
      "XGBClassifier: Accuracy = 0.8960, F1 Score = 0.8958\n",
      "🏃 View run XGBClassifier at: https://dagshub.com/sreenathreddy6633/price-detection.mlflow/#/experiments/12/runs/2080c72cfbc347a5a1486ca64a60d909\n",
      "🧪 View experiment at: https://dagshub.com/sreenathreddy6633/price-detection.mlflow/#/experiments/12\n"
     ]
    }
   ],
   "source": [
    "\n",
    "preprocessing = Pipeline([\n",
    "    (\"scaler\", StandardScaler())\n",
    "])\n",
    "\n",
    "\n",
    "# Run models and log results\n",
    "with dagshub.dagshub_logger() as logger:\n",
    "    for model_name, model in models.items():\n",
    "        with mlflow.start_run(run_name=model_name):\n",
    "            # Preprocessing\n",
    "            X_train_fs = preprocessing.fit_transform(X_train[important_features['Feature']])\n",
    "            X_test_fs = preprocessing.transform(X_test[important_features['Feature']])\n",
    "\n",
    "            # Model fitting\n",
    "            model.fit(X_train_fs, y_train)\n",
    "\n",
    "            # Predictions\n",
    "            y_pred = model.predict(X_test_fs)\n",
    "\n",
    "            # Metrics\n",
    "            acc = accuracy_score(y_test, y_pred)\n",
    "            f1 = f1_score(y_test, y_pred, average=\"weighted\")\n",
    "\n",
    "            # Log parameters, metrics, and model\n",
    "            log_param(\"model\", model_name)\n",
    "            log_metric(\"accuracy\", acc)\n",
    "            log_metric(\"f1_score\", f1)\n",
    "            logger.log_metrics({\"accuracy\": acc, \"f1_score\": f1})\n",
    "            mlflow.sklearn.log_model(model, model_name)\n",
    "            print(f\"{model_name}: Accuracy = {acc:.4f}, F1 Score = {f1:.4f}\")"
   ]
  },
  {
   "cell_type": "markdown",
   "id": "1df63719-8d8f-449a-acb7-a946026e528e",
   "metadata": {},
   "source": [
    "# Experiment 5"
   ]
  },
  {
   "cell_type": "code",
   "execution_count": 43,
   "id": "021f4e66-1011-4871-a70e-2e9e65ad0be8",
   "metadata": {},
   "outputs": [
    {
     "data": {
      "image/png": "[encoded data removed]",
      "text/plain": [
       "<Figure size 1000x600 with 1 Axes>"
      ]
     },
     "metadata": {},
     "output_type": "display_data"
    },
    {
     "name": "stdout",
     "output_type": "stream",
     "text": [
      "Number of components to retain for 95% variance: 4\n"
     ]
    }
   ],
   "source": [
    "\n",
    "# Apply PCA\n",
    "pca = PCA()\n",
    "X_train_pca = pca.fit_transform(X_train)\n",
    "X_test_pca = pca.transform(X_test)\n",
    "\n",
    "# Calculate cumulative explained variance\n",
    "explained_variance = pca.explained_variance_ratio_\n",
    "cumulative_variance = explained_variance.cumsum()\n",
    "\n",
    "# Scree plot\n",
    "plt.figure(figsize=(10, 6))\n",
    "plt.plot(range(1, len(cumulative_variance) + 1), cumulative_variance, marker='o', linestyle='--')\n",
    "plt.xlabel('Number of Principal Components')\n",
    "plt.ylabel('Cumulative Explained Variance')\n",
    "plt.title('Scree Plot')\n",
    "plt.grid()\n",
    "plt.show()\n",
    "\n",
    "# Select the number of components to retain (e.g., 95% cumulative variance)\n",
    "n_components = next(i for i, var in enumerate(cumulative_variance) if var >= 0.95) + 1\n",
    "print(f\"Number of components to retain for 95% variance: {n_components}\")\n",
    "\n",
    "# Transform data using the selected components\n",
    "pca = PCA(n_components=n_components)\n",
    "X_train_reduced = pca.fit_transform(X_train)\n",
    "X_test_reduced = pca.transform(X_test)"
   ]
  },
  {
   "cell_type": "code",
   "execution_count": 44,
   "id": "eafeb780-21c4-4e67-a186-e52aec3f7e21",
   "metadata": {},
   "outputs": [
    {
     "name": "stderr",
     "output_type": "stream",
     "text": [
      "2024/12/20 04:24:14 INFO mlflow.tracking.fluent: Experiment with name 'Experiment_5' does not exist. Creating a new experiment.\n",
      "\u001b[31m2024/12/20 04:24:19 WARNING mlflow.models.model: Model logged without a signature and input example. Please set `input_example` parameter when logging the model to auto infer the model signature.\u001b[0m\n"
     ]
    },
    {
     "name": "stdout",
     "output_type": "stream",
     "text": [
      "LogisticRegression: Accuracy = 0.9600, F1 Score = 0.9599\n",
      "🏃 View run LogisticRegression at: https://dagshub.com/sreenathreddy6633/price-detection.mlflow/#/experiments/13/runs/c04e0a6e94134c52996fdf1b8f074247\n",
      "🧪 View experiment at: https://dagshub.com/sreenathreddy6633/price-detection.mlflow/#/experiments/13\n"
     ]
    },
    {
     "name": "stderr",
     "output_type": "stream",
     "text": [
      "\u001b[31m2024/12/20 04:24:33 WARNING mlflow.models.model: Model logged without a signature and input example. Please set `input_example` parameter when logging the model to auto infer the model signature.\u001b[0m\n"
     ]
    },
    {
     "name": "stdout",
     "output_type": "stream",
     "text": [
      "RidgeClassifier: Accuracy = 0.5780, F1 Score = 0.4737\n",
      "🏃 View run RidgeClassifier at: https://dagshub.com/sreenathreddy6633/price-detection.mlflow/#/experiments/13/runs/ef11efbb094a4998981552b5a95e1e6d\n",
      "🧪 View experiment at: https://dagshub.com/sreenathreddy6633/price-detection.mlflow/#/experiments/13\n"
     ]
    },
    {
     "name": "stderr",
     "output_type": "stream",
     "text": [
      "\u001b[31m2024/12/20 04:24:48 WARNING mlflow.models.model: Model logged without a signature and input example. Please set `input_example` parameter when logging the model to auto infer the model signature.\u001b[0m\n"
     ]
    },
    {
     "name": "stdout",
     "output_type": "stream",
     "text": [
      "RandomForestClassifier: Accuracy = 0.9240, F1 Score = 0.9242\n",
      "🏃 View run RandomForestClassifier at: https://dagshub.com/sreenathreddy6633/price-detection.mlflow/#/experiments/13/runs/2ae2fc313aa442df81e4f9fe99ea7586\n",
      "🧪 View experiment at: https://dagshub.com/sreenathreddy6633/price-detection.mlflow/#/experiments/13\n"
     ]
    },
    {
     "name": "stderr",
     "output_type": "stream",
     "text": [
      "\u001b[31m2024/12/20 04:24:58 WARNING mlflow.models.model: Model logged without a signature and input example. Please set `input_example` parameter when logging the model to auto infer the model signature.\u001b[0m\n"
     ]
    },
    {
     "name": "stdout",
     "output_type": "stream",
     "text": [
      "XGBClassifier: Accuracy = 0.9280, F1 Score = 0.9283\n",
      "🏃 View run XGBClassifier at: https://dagshub.com/sreenathreddy6633/price-detection.mlflow/#/experiments/13/runs/1735032967ce4977b2ccda8829fd8e20\n",
      "🧪 View experiment at: https://dagshub.com/sreenathreddy6633/price-detection.mlflow/#/experiments/13\n"
     ]
    }
   ],
   "source": [
    "mlflow.set_experiment(\"Experiment_5\")\n",
    "\n",
    "with dagshub.dagshub_logger() as logger:\n",
    "    for model_name, model in models.items():\n",
    "        with mlflow.start_run(run_name=model_name):\n",
    "            # Preprocessing\n",
    "            X_train_reduced = preprocessing.fit_transform(X_train_reduced)\n",
    "            X_test_reduced = preprocessing.transform(X_test_reduced)\n",
    "\n",
    "            # Model fitting\n",
    "            model.fit(X_train_reduced, y_train)\n",
    "\n",
    "            # Predictions\n",
    "            y_pred = model.predict(X_test_reduced)\n",
    "\n",
    "            # Metrics\n",
    "            acc = accuracy_score(y_test, y_pred)\n",
    "            f1 = f1_score(y_test, y_pred, average=\"weighted\")\n",
    "\n",
    "            # Log parameters, metrics, and model\n",
    "            log_param(\"model\", model_name)\n",
    "            log_metric(\"accuracy\", acc)\n",
    "            log_metric(\"f1_score\", f1)\n",
    "\n",
    "            logger.log_metrics({\"accuracy\": acc, \"f1_score\": f1})\n",
    "            mlflow.sklearn.log_model(model, model_name)\n",
    "            print(f\"{model_name}: Accuracy = {acc:.4f}, F1 Score = {f1:.4f}\")\n"
   ]
  },
  {
   "cell_type": "markdown",
   "id": "6ee0fe9d-6066-4723-a0b3-0f951f85cc3c",
   "metadata": {},
   "source": [
    "# Experiment 6"
   ]
  },
  {
   "cell_type": "code",
   "execution_count": 46,
   "id": "259ba732-d529-45ea-8037-eb7f979556a0",
   "metadata": {},
   "outputs": [],
   "source": [
    "from sklearn.ensemble import StackingClassifier\n",
    "#from sklearn.preprocessing import StandardScaler, FunctionTransformer\n",
    "from dagshub import dagshub_logger\n",
    "# Feature engineering\n",
    "def hybrid_features(data):\n",
    "    data = data.copy()\n",
    "    data[\"battery_to_weight_ratio\"] = data[\"battery_power\"] / data[\"mobile_wt\"]\n",
    "    data[\"px_resolution\"] = data[\"px_height\"] * data[\"px_width\"]\n",
    "    return data"
   ]
  },
  {
   "cell_type": "code",
   "execution_count": 51,
   "id": "1142d057-f637-4c05-9daf-896b251569e2",
   "metadata": {},
   "outputs": [
    {
     "name": "stderr",
     "output_type": "stream",
     "text": [
      "2024/12/20 04:26:23 INFO mlflow.tracking.fluent: Experiment with name 'Experiment_6' does not exist. Creating a new experiment.\n"
     ]
    },
    {
     "name": "stdout",
     "output_type": "stream",
     "text": [
      "Stacking Model: Accuracy = 0.2940, F1 Score = 0.2909\n",
      "🏃 View run Custom_Stacked_Experiment at: https://dagshub.com/sreenathreddy6633/price-detection.mlflow/#/experiments/14/runs/2ea948ed4a9c4ab697c9388da2020eeb\n",
      "🧪 View experiment at: https://dagshub.com/sreenathreddy6633/price-detection.mlflow/#/experiments/14\n"
     ]
    }
   ],
   "source": [
    "# Preprocessing pipeline\n",
    "preprocessing = Pipeline([\n",
    "    (\"feature_engineering\", FunctionTransformer(hybrid_features, validate=False)),\n",
    "    (\"scaler\", StandardScaler()),\n",
    "    (\"pca\", PCA(n_components=1))  # Retain top 10 PCA components\n",
    "])\n",
    "\n",
    "# Preprocess data\n",
    "X_train_transformed = preprocessing.fit_transform(X_train)\n",
    "X_test_transformed = preprocessing.transform(X_test)\n",
    "\n",
    "# Base models for stacking\n",
    "base_models = [\n",
    "    (\"lr\", RidgeClassifier(max_iter=1000, random_state=42)),\n",
    "    (\"rf\", RandomForestClassifier(random_state=42, n_jobs=-1)),\n",
    "    (\"xgb\", XGBClassifier(random_state=42, n_jobs=-1))\n",
    "]\n",
    "\n",
    "# Meta-model for stacking\n",
    "meta_model = LogisticRegression(random_state=42)\n",
    "\n",
    "# Stacking classifier\n",
    "stacking_model = StackingClassifier(estimators=base_models, final_estimator=meta_model, n_jobs=-1)\n",
    "\n",
    "# Train and evaluate model\n",
    "mlflow.set_experiment(\"Experiment_6\")\n",
    "with dagshub_logger() as logger:\n",
    "    with mlflow.start_run(run_name=\"Custom_Stacked_Experiment\"):\n",
    "        # Fit stacking model\n",
    "        stacking_model.fit(X_train_transformed, y_train)\n",
    "\n",
    "        # Predictions\n",
    "        y_pred = stacking_model.predict(X_test_transformed)\n",
    "\n",
    "        # Metrics\n",
    "        acc = accuracy_score(y_test, y_pred)\n",
    "        f1 = f1_score(y_test, y_pred, average=\"weighted\")\n",
    "\n",
    "        # Log parameters and results\n",
    "        log_param(\"base_models\", [name for name, _ in base_models])\n",
    "        log_param(\"meta_model\", \"RidgeClassifier\")\n",
    "        log_metric(\"accuracy\", acc)\n",
    "        log_metric(\"f1_score\", f1)\n",
    "        logger.log_metrics({\"accuracy\": acc, \"f1_score\": f1})\n",
    "\n",
    "        # Log PCA variance\n",
    "        explained_variance = preprocessing.named_steps[\"pca\"].explained_variance_ratio_\n",
    "        mlflow.log_param(\"explained_variance\", explained_variance.tolist())\n",
    "\n",
    "        print(f\"Stacking Model: Accuracy = {acc:.4f}, F1 Score = {f1:.4f}\")"
   ]
  },
  {
   "cell_type": "markdown",
   "id": "8f774f88-e899-48db-b402-83148c513bf0",
   "metadata": {},
   "source": [
    "# Experiment 7"
   ]
  },
  {
   "cell_type": "code",
   "execution_count": 53,
   "id": "b76afed3-c4d7-4cf6-a111-3614373d3aa6",
   "metadata": {},
   "outputs": [
    {
     "name": "stdout",
     "output_type": "stream",
     "text": [
      "Requirement already satisfied: geneticalgorithm in /opt/anaconda3/lib/python3.12/site-packages (1.0.2)\n",
      "Requirement already satisfied: func-timeout in /opt/anaconda3/lib/python3.12/site-packages (from geneticalgorithm) (4.3.5)\n",
      "Requirement already satisfied: numpy in /opt/anaconda3/lib/python3.12/site-packages (from geneticalgorithm) (1.26.4)\n",
      " The best solution found:                                                                           \n",
      " [0. 1. 0. 0. 1. 1. 0. 0. 0. 1. 0. 0. 1. 0. 0. 1. 1. 0. 1. 1. 0.]\n",
      "\n",
      " Objective function:\n",
      " 0.07799999999999996\n"
     ]
    },
    {
     "data": {
      "image/png": "[encoded data removed]",
      "text/plain": [
       "<Figure size 640x480 with 1 Axes>"
      ]
     },
     "metadata": {},
     "output_type": "display_data"
    },
    {
     "name": "stderr",
     "output_type": "stream",
     "text": [
      "/opt/anaconda3/lib/python3.12/site-packages/sklearn/linear_model/_logistic.py:469: ConvergenceWarning: lbfgs failed to converge (status=1):\n",
      "STOP: TOTAL NO. of ITERATIONS REACHED LIMIT.\n",
      "\n",
      "Increase the number of iterations (max_iter) or scale the data as shown in:\n",
      "    https://scikit-learn.org/stable/modules/preprocessing.html\n",
      "Please also refer to the documentation for alternative solver options:\n",
      "    https://scikit-learn.org/stable/modules/linear_model.html#logistic-regression\n",
      "  n_iter_i = _check_optimize_result(\n",
      "/opt/anaconda3/lib/python3.12/site-packages/sklearn/linear_model/_logistic.py:469: ConvergenceWarning: lbfgs failed to converge (status=1):\n",
      "STOP: TOTAL NO. of ITERATIONS REACHED LIMIT.\n",
      "\n",
      "Increase the number of iterations (max_iter) or scale the data as shown in:\n",
      "    https://scikit-learn.org/stable/modules/preprocessing.html\n",
      "Please also refer to the documentation for alternative solver options:\n",
      "    https://scikit-learn.org/stable/modules/linear_model.html#logistic-regression\n",
      "  n_iter_i = _check_optimize_result(\n",
      "/opt/anaconda3/lib/python3.12/site-packages/sklearn/linear_model/_logistic.py:469: ConvergenceWarning: lbfgs failed to converge (status=1):\n",
      "STOP: TOTAL NO. of ITERATIONS REACHED LIMIT.\n",
      "\n",
      "Increase the number of iterations (max_iter) or scale the data as shown in:\n",
      "    https://scikit-learn.org/stable/modules/preprocessing.html\n",
      "Please also refer to the documentation for alternative solver options:\n",
      "    https://scikit-learn.org/stable/modules/linear_model.html#logistic-regression\n",
      "  n_iter_i = _check_optimize_result(\n",
      "/opt/anaconda3/lib/python3.12/site-packages/sklearn/linear_model/_logistic.py:469: ConvergenceWarning: lbfgs failed to converge (status=1):\n",
      "STOP: TOTAL NO. of ITERATIONS REACHED LIMIT.\n",
      "\n",
      "Increase the number of iterations (max_iter) or scale the data as shown in:\n",
      "    https://scikit-learn.org/stable/modules/preprocessing.html\n",
      "Please also refer to the documentation for alternative solver options:\n",
      "    https://scikit-learn.org/stable/modules/linear_model.html#logistic-regression\n",
      "  n_iter_i = _check_optimize_result(\n",
      "/opt/anaconda3/lib/python3.12/site-packages/sklearn/linear_model/_logistic.py:469: ConvergenceWarning: lbfgs failed to converge (status=1):\n",
      "STOP: TOTAL NO. of ITERATIONS REACHED LIMIT.\n",
      "\n",
      "Increase the number of iterations (max_iter) or scale the data as shown in:\n",
      "    https://scikit-learn.org/stable/modules/preprocessing.html\n",
      "Please also refer to the documentation for alternative solver options:\n",
      "    https://scikit-learn.org/stable/modules/linear_model.html#logistic-regression\n",
      "  n_iter_i = _check_optimize_result(\n",
      "/opt/anaconda3/lib/python3.12/site-packages/sklearn/linear_model/_logistic.py:469: ConvergenceWarning: lbfgs failed to converge (status=1):\n",
      "STOP: TOTAL NO. of ITERATIONS REACHED LIMIT.\n",
      "\n",
      "Increase the number of iterations (max_iter) or scale the data as shown in:\n",
      "    https://scikit-learn.org/stable/modules/preprocessing.html\n",
      "Please also refer to the documentation for alternative solver options:\n",
      "    https://scikit-learn.org/stable/modules/linear_model.html#logistic-regression\n",
      "  n_iter_i = _check_optimize_result(\n",
      "2024/12/20 04:29:33 INFO mlflow.tracking.fluent: Experiment with name 'Experiment_7' does not exist. Creating a new experiment.\n"
     ]
    },
    {
     "name": "stdout",
     "output_type": "stream",
     "text": [
      "Experiment logged in MLFlow.\n",
      "Accuracy: 0.8960, F1 Score: 0.8961\n",
      "🏃 View run GA_Feature_Selection_Stacking at: https://dagshub.com/sreenathreddy6633/price-detection.mlflow/#/experiments/15/runs/ae185f554fb145f5977b54da5e23842b\n",
      "🧪 View experiment at: https://dagshub.com/sreenathreddy6633/price-detection.mlflow/#/experiments/15\n"
     ]
    }
   ],
   "source": [
    "!pip install geneticalgorithm\n",
    "from geneticalgorithm import geneticalgorithm as ga\n",
    "from sklearn.model_selection import train_test_split\n",
    "from sklearn.metrics import accuracy_score, f1_score\n",
    "from sklearn.ensemble import RandomForestClassifier, StackingClassifier\n",
    "from sklearn.linear_model import LogisticRegression\n",
    "from xgboost import XGBClassifier\n",
    "import numpy as np\n",
    "import pandas as pd\n",
    "import mlflow\n",
    "from dagshub import dagshub_logger\n",
    "\n",
    "\n",
    "\n",
    "# Feature selection using Genetic Algorithm\n",
    "def fitness_function(features):\n",
    "    \"\"\"Fitness function to evaluate model performance for a given feature subset.\"\"\"\n",
    "    selected_features = np.where(features == 1)[0]  # Indices of selected features\n",
    "    if len(selected_features) == 0:  # Avoid models with no features\n",
    "        return 1  # High fitness value means bad performance\n",
    "    \n",
    "    # Train-test split on selected features\n",
    "    X_train_subset = X_train.iloc[:, selected_features]\n",
    "    X_test_subset = X_test.iloc[:, selected_features]\n",
    "\n",
    "    # Train a simple model (e.g., Random Forest)\n",
    "    model = RandomForestClassifier(random_state=42)\n",
    "    model.fit(X_train_subset, y_train)\n",
    "    y_pred = model.predict(X_test_subset)\n",
    "\n",
    "    # Use 1 - accuracy as the fitness value (lower is better)\n",
    "    accuracy = accuracy_score(y_test, y_pred)\n",
    "    return 1 - accuracy\n",
    "\n",
    "# Define Genetic Algorithm parameters\n",
    "num_features = X.shape[1]\n",
    "algorithm = ga(\n",
    "    function=fitness_function,\n",
    "    dimension=num_features,\n",
    "    variable_type=\"bool\",  # Binary selection (0 = exclude, 1 = include)\n",
    "    algorithm_parameters={\n",
    "        \"max_num_iteration\": 50,\n",
    "        \"population_size\": 20,\n",
    "        \"mutation_probability\": 0.1,\n",
    "        \"elit_ratio\": 0.01,\n",
    "        \"crossover_probability\": 0.5,\n",
    "        \"parents_portion\": 0.3,\n",
    "        \"crossover_type\": \"uniform\",\n",
    "        \"max_iteration_without_improv\": None\n",
    "    }\n",
    ")\n",
    "\n",
    "# Run Genetic Algorithm for feature selection\n",
    "algorithm.run()\n",
    "selected_features = np.where(algorithm.output_dict[\"variable\"] == 1)[0]\n",
    "\n",
    "# Use selected features for stacking model\n",
    "X_train_selected = X_train.iloc[:, selected_features]\n",
    "X_test_selected = X_test.iloc[:, selected_features]\n",
    "\n",
    "\n",
    "# Define Stacking Classifier\n",
    "base_models = [\n",
    "    (\"lr\", LogisticRegression(max_iter=1000, random_state=42)),\n",
    "    (\"rf\", RandomForestClassifier(random_state=42, n_jobs=-1))\n",
    "]\n",
    "meta_model = XGBClassifier(random_state=42, n_jobs=-1)\n",
    "stacking_model = StackingClassifier(\n",
    "    estimators=base_models,\n",
    "    final_estimator=meta_model,\n",
    "    stack_method=\"predict_proba\",\n",
    "    n_jobs=-1\n",
    ")\n",
    "\n",
    "# Train Stacking Classifier on selected features\n",
    "stacking_model.fit(X_train_selected, y_train)\n",
    "y_pred = stacking_model.predict(X_test_selected)\n",
    "\n",
    "# Evaluate metrics\n",
    "accuracy = accuracy_score(y_test, y_pred)\n",
    "f1 = f1_score(y_test, y_pred, average=\"weighted\")\n",
    "\n",
    "# Log results in MLFlow\n",
    "mlflow.set_tracking_uri(\"https://dagshub.com/sreenathreddy6633/price-detection.mlflow\")  # Replace with your DagsHub repo\n",
    "mlflow.set_experiment(\"Experiment_7\")\n",
    "\n",
    "with dagshub_logger() as logger:\n",
    "    with mlflow.start_run(run_name=\"GA_Feature_Selection_Stacking\"):\n",
    "        # Log selected features\n",
    "        mlflow.log_param(\"selected_features\", X.columns[selected_features].tolist())\n",
    "\n",
    "        # Log metrics\n",
    "        mlflow.log_metric(\"accuracy\", accuracy)\n",
    "        mlflow.log_metric(\"f1_score\", f1)\n",
    "\n",
    "        logger.log_metrics({\"accuracy\": accuracy, \"f1_score\": f1})\n",
    "        print(\"Experiment logged in MLFlow.\")\n",
    "        print(f\"Accuracy: {accuracy:.4f}, F1 Score: {f1:.4f}\")"
   ]
  },
  {
   "cell_type": "markdown",
   "id": "3529e195-b18e-48c4-9de8-d9ea98ab7abe",
   "metadata": {},
   "source": [
    "# Meaningful F1-score plots "
   ]
  },
  {
   "cell_type": "code",
   "execution_count": 63,
   "id": "135027d5-a391-4f3f-b687-b4ed4864a9d1",
   "metadata": {},
   "outputs": [
    {
     "name": "stdout",
     "output_type": "stream",
     "text": [
      "                              run_id  F1-Score                       Run Name  \\\n",
      "9   67a1696f21d247328066e8a3d1caa54f  0.971902             LogisticRegression   \n",
      "17  1c1a6555bb824489aa480056c3bf977f  0.961923             LogisticRegression   \n",
      "5   c04e0a6e94134c52996fdf1b8f074247  0.959901             LogisticRegression   \n",
      "13  c77bd0fc4b8149d3923d021a438a2bd7  0.949940             LogisticRegression   \n",
      "2   1735032967ce4977b2ccda8829fd8e20  0.928329                  XGBClassifier   \n",
      "3   2ae2fc313aa442df81e4f9fe99ea7586  0.924218         RandomForestClassifier   \n",
      "14  4fd96a95a37543779bcdd1bbe88f42b4  0.900045                  XGBClassifier   \n",
      "7   bc544089e6184f9797860bf1238e3138  0.899912         RandomForestClassifier   \n",
      "10  9b6c65a3542d49d89e54e31699460865  0.898309                  XGBClassifier   \n",
      "0   ae185f554fb145f5977b54da5e23842b  0.896059  GA_Feature_Selection_Stacking   \n",
      "6   2080c72cfbc347a5a1486ca64a60d909  0.895842                  XGBClassifier   \n",
      "11  9173dc4a702d47128573f40c010fe97f  0.892397         RandomForestClassifier   \n",
      "15  7839dd15ff984dabbb002a3a16a492ae  0.871867         RandomForestClassifier   \n",
      "16  f652ae960bdf445085a9d14c324dd1f1  0.577021                RidgeClassifier   \n",
      "12  f6bc29f4baee476db4491ca2d49fe8a3  0.564021                RidgeClassifier   \n",
      "8   3862eeb0aadf457da1e4ab4587a1ed4c  0.513364                RidgeClassifier   \n",
      "4   ef11efbb094a4998981552b5a95e1e6d  0.473667                RidgeClassifier   \n",
      "1   2ea948ed4a9c4ab697c9388da2020eeb  0.290876      Custom_Stacked_Experiment   \n",
      "\n",
      "      Experiment  \n",
      "9   Experiment_4  \n",
      "17  Experiment_2  \n",
      "5   Experiment_5  \n",
      "13  Experiment_3  \n",
      "2   Experiment_5  \n",
      "3   Experiment_5  \n",
      "14  Experiment_2  \n",
      "7   Experiment_4  \n",
      "10  Experiment_3  \n",
      "0   Experiment_7  \n",
      "6   Experiment_4  \n",
      "11  Experiment_3  \n",
      "15  Experiment_2  \n",
      "16  Experiment_2  \n",
      "12  Experiment_3  \n",
      "8   Experiment_4  \n",
      "4   Experiment_5  \n",
      "1   Experiment_6  \n"
     ]
    },
    {
     "name": "stderr",
     "output_type": "stream",
     "text": [
      "/var/folders/ky/31mx8kz15pl2l2g5yc3h61280000gn/T/ipykernel_51363/3202119120.py:61: UserWarning: Tight layout not applied. The bottom and top margins cannot be made large enough to accommodate all axes decorations.\n",
      "  plt.tight_layout()\n"
     ]
    },
    {
     "data": {
      "image/png": "[encoded data removed]",
      "text/plain": [
       "<Figure size 1000x800 with 1 Axes>"
      ]
     },
     "metadata": {},
     "output_type": "display_data"
    }
   ],
   "source": [
    "import mlflow\n",
    "import pandas as pd\n",
    "import matplotlib.pyplot as plt\n",
    "\n",
    "# Set the tracking URI for MLFlow (update with your MLFlow server URI if needed)\n",
    "mlflow.set_tracking_uri(\"https://dagshub.com/sreenathreddy6633/price-detection.mlflow\")  # Replace with your MLFlow tracking server\n",
    "\n",
    "# Fetch all experiments\n",
    "experiments = mlflow.search_experiments()\n",
    "all_f1_scores = []\n",
    "\n",
    "# Loop through each experiment\n",
    "for experiment in experiments:\n",
    "    experiment_id = experiment.experiment_id\n",
    "    experiment_name = experiment.name\n",
    "\n",
    "    # Get all runs for the experiment\n",
    "    runs = mlflow.search_runs(experiment_ids=[experiment_id])\n",
    "\n",
    "    # Extract F1-scores and corresponding run names\n",
    "    if \"metrics.f1_score\" in runs.columns:\n",
    "        f1_scores = runs[[\"run_id\", \"metrics.f1_score\", \"tags.mlflow.runName\"]].dropna()\n",
    "        f1_scores = f1_scores.rename(\n",
    "            columns={\n",
    "                \"metrics.f1_score\": \"F1-Score\",\n",
    "                \"tags.mlflow.runName\": \"Run Name\"\n",
    "            }\n",
    "        )\n",
    "        f1_scores[\"Experiment\"] = experiment_name\n",
    "        all_f1_scores.append(f1_scores)\n",
    "\n",
    "# Combine F1-scores from all experiments\n",
    "if all_f1_scores:\n",
    "    combined_f1_scores = pd.concat(all_f1_scores, ignore_index=True)\n",
    "else:\n",
    "    raise ValueError(\"No F1-scores found in any experiments.\")\n",
    "\n",
    "# Sort by F1-Score for better visualization\n",
    "combined_f1_scores = combined_f1_scores.sort_values(by=\"F1-Score\", ascending=False)\n",
    "\n",
    "# Display the F1-scores\n",
    "print(combined_f1_scores)\n",
    "\n",
    "# Plot the F1-scores\n",
    "plt.figure(figsize=(10, 8))\n",
    "for experiment_name in combined_f1_scores[\"Experiment\"].unique():\n",
    "    exp_data = combined_f1_scores[combined_f1_scores[\"Experiment\"] == experiment_name]\n",
    "    plt.barh(exp_data[\"Run Name\"], exp_data[\"F1-Score\"], label=experiment_name)\n",
    "\n",
    "plt.xlabel(\"F1-Score\")\n",
    "plt.ylabel(\"Runs\")\n",
    "plt.title(\"Comparison of F1-Scores Across Experiments\")\n",
    "plt.legend(title=\"Experiments\")\n",
    "plt.grid(axis=\"x\", linestyle=\"--\", alpha=0.7)\n",
    "plt.xlim(0, 1)  # F1-scores are between 0 and 1\n",
    "\n",
    "# Annotate bars with F1-scores\n",
    "for i, score in enumerate(combined_f1_scores[\"F1-Score\"]):\n",
    "    plt.text(score + 0.01, i, f\"{score:.2f}\", va=\"center\", fontsize=8)\n",
    "\n",
    "plt.tight_layout()\n",
    "plt.show()"
   ]
  },
  {
   "cell_type": "markdown",
   "id": "1471327e-f517-4ae4-b151-428451925896",
   "metadata": {},
   "source": [
    "<li> After final Analysis it is found from above graph that logistic regression was superior in terms of f1 score than any other model used in all instances. </li>\n",
    "<li> Logistic Regression model from Experiment 4 gave best results</li>"
   ]
  },
  {
   "cell_type": "code",
   "execution_count": null,
   "id": "9af8513d-d0c3-4eab-8649-1119fd7ba1aa",
   "metadata": {},
   "outputs": [],
   "source": [
    "import joblib"
   ]
  },
  {
   "cell_type": "code",
   "execution_count": 99,
   "id": "e4c9c9af-4113-4834-84be-2987d3a22071",
   "metadata": {},
   "outputs": [
    {
     "data": {
      "text/plain": [
       "['logistic_model.pkl']"
      ]
     },
     "execution_count": 99,
     "metadata": {},
     "output_type": "execute_result"
    }
   ],
   "source": [
    "pipeline = Pipeline([\n",
    "    (\"scaler\", StandardScaler()),\n",
    "    (\"model\", LogisticRegression(max_iter=1000, random_state=42))\n",
    "])\n",
    "\n",
    "pipeline.fit(X_train_selected, y_train)\n",
    "\n",
    "# Save the entire pipeline\n",
    "joblib.dump(pipeline, \"logistic_model.pkl\")"
   ]
  },
  {
   "cell_type": "code",
   "execution_count": 103,
   "id": "1a6252e4-f10e-43e5-bfcb-2d9565289cef",
   "metadata": {},
   "outputs": [
    {
     "name": "stdout",
     "output_type": "stream",
     "text": [
      "0.9720025639730556\n"
     ]
    }
   ],
   "source": [
    "y_pred = pipeline.predict(X_test_selected)\n",
    "print(f1_score(y_pred, y_test, average='weighted'))"
   ]
  },
  {
   "cell_type": "code",
   "execution_count": 107,
   "id": "93112d40-8ee8-4d3b-8614-d00bb78acdbe",
   "metadata": {},
   "outputs": [
    {
     "data": {
      "text/html": [
       "<div>\n",
       "<style scoped>\n",
       "    .dataframe tbody tr th:only-of-type {\n",
       "        vertical-align: middle;\n",
       "    }\n",
       "\n",
       "    .dataframe tbody tr th {\n",
       "        vertical-align: top;\n",
       "    }\n",
       "\n",
       "    .dataframe thead th {\n",
       "        text-align: right;\n",
       "    }\n",
       "</style>\n",
       "<table border=\"1\" class=\"dataframe\">\n",
       "  <thead>\n",
       "    <tr style=\"text-align: right;\">\n",
       "      <th></th>\n",
       "      <th>battery_power</th>\n",
       "      <th>mobile_wt</th>\n",
       "      <th>ram</th>\n",
       "      <th>dual_sim</th>\n",
       "      <th>touch_screen</th>\n",
       "      <th>pc</th>\n",
       "      <th>sc_h</th>\n",
       "      <th>px_height</th>\n",
       "      <th>px_width</th>\n",
       "    </tr>\n",
       "  </thead>\n",
       "  <tbody>\n",
       "    <tr>\n",
       "      <th>1860</th>\n",
       "      <td>1646</td>\n",
       "      <td>200</td>\n",
       "      <td>686</td>\n",
       "      <td>0</td>\n",
       "      <td>1</td>\n",
       "      <td>5</td>\n",
       "      <td>8</td>\n",
       "      <td>211</td>\n",
       "      <td>1608</td>\n",
       "    </tr>\n",
       "    <tr>\n",
       "      <th>353</th>\n",
       "      <td>1182</td>\n",
       "      <td>138</td>\n",
       "      <td>2563</td>\n",
       "      <td>0</td>\n",
       "      <td>0</td>\n",
       "      <td>16</td>\n",
       "      <td>19</td>\n",
       "      <td>275</td>\n",
       "      <td>986</td>\n",
       "    </tr>\n",
       "    <tr>\n",
       "      <th>1333</th>\n",
       "      <td>1972</td>\n",
       "      <td>196</td>\n",
       "      <td>1316</td>\n",
       "      <td>0</td>\n",
       "      <td>1</td>\n",
       "      <td>18</td>\n",
       "      <td>8</td>\n",
       "      <td>293</td>\n",
       "      <td>952</td>\n",
       "    </tr>\n",
       "    <tr>\n",
       "      <th>905</th>\n",
       "      <td>989</td>\n",
       "      <td>166</td>\n",
       "      <td>3892</td>\n",
       "      <td>0</td>\n",
       "      <td>1</td>\n",
       "      <td>19</td>\n",
       "      <td>18</td>\n",
       "      <td>256</td>\n",
       "      <td>1394</td>\n",
       "    </tr>\n",
       "    <tr>\n",
       "      <th>1289</th>\n",
       "      <td>615</td>\n",
       "      <td>130</td>\n",
       "      <td>1906</td>\n",
       "      <td>1</td>\n",
       "      <td>0</td>\n",
       "      <td>8</td>\n",
       "      <td>14</td>\n",
       "      <td>1021</td>\n",
       "      <td>1958</td>\n",
       "    </tr>\n",
       "  </tbody>\n",
       "</table>\n",
       "</div>"
      ],
      "text/plain": [
       "      battery_power  mobile_wt   ram  dual_sim  touch_screen  pc  sc_h  \\\n",
       "1860           1646        200   686         0             1   5     8   \n",
       "353            1182        138  2563         0             0  16    19   \n",
       "1333           1972        196  1316         0             1  18     8   \n",
       "905             989        166  3892         0             1  19    18   \n",
       "1289            615        130  1906         1             0   8    14   \n",
       "\n",
       "      px_height  px_width  \n",
       "1860        211      1608  \n",
       "353         275       986  \n",
       "1333        293       952  \n",
       "905         256      1394  \n",
       "1289       1021      1958  "
      ]
     },
     "execution_count": 107,
     "metadata": {},
     "output_type": "execute_result"
    }
   ],
   "source": [
    "X_test_selected.head()"
   ]
  },
  {
   "cell_type": "code",
   "execution_count": null,
   "id": "3d9c3022-54ae-440e-aecd-56ebed7f8489",
   "metadata": {},
   "outputs": [],
   "source": []
  }
 ],
 "metadata": {
  "kernelspec": {
   "display_name": "Python 3 (ipykernel)",
   "language": "python",
   "name": "python3"
  },
  "language_info": {
   "codemirror_mode": {
    "name": "ipython",
    "version": 3
   },
   "file_extension": ".py",
   "mimetype": "text/x-python",
   "name": "python",
   "nbconvert_exporter": "python",
   "pygments_lexer": "ipython3",
   "version": "3.12.4"
  }
 },
 "nbformat": 4,
 "nbformat_minor": 5
}
